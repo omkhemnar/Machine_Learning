{
 "cells": [
  {
   "cell_type": "code",
   "execution_count": 2,
   "id": "701cee7c",
   "metadata": {},
   "outputs": [
    {
     "name": "stdout",
     "output_type": "stream",
     "text": [
      "Hi TY class\n"
     ]
    }
   ],
   "source": [
    "print(\"Hi TY class\")"
   ]
  },
  {
   "cell_type": "code",
   "execution_count": 3,
   "id": "31428542",
   "metadata": {},
   "outputs": [],
   "source": [
    "import numpy as np"
   ]
  },
  {
   "cell_type": "code",
   "execution_count": 4,
   "id": "69eecf9f",
   "metadata": {},
   "outputs": [],
   "source": [
    "a = [12,53,62]\n",
    "result = np.mean(a)"
   ]
  },
  {
   "cell_type": "code",
   "execution_count": 5,
   "id": "3fb622a1",
   "metadata": {},
   "outputs": [
    {
     "name": "stdout",
     "output_type": "stream",
     "text": [
      "42.333333333333336\n"
     ]
    }
   ],
   "source": [
    "print(result)"
   ]
  },
  {
   "cell_type": "code",
   "execution_count": null,
   "id": "58c4e086",
   "metadata": {},
   "outputs": [
    {
     "name": "stdout",
     "output_type": "stream",
     "text": [
      "adition is 22.0 + 15.0 = 37.0\n"
     ]
    }
   ],
   "source": [
    "import numpy\n",
    "a = float(input(\"Enter first number: \"))\n",
    "b = float(input(\"Enter second number: \"))\n",
    "op = input(\"Enter operator (+, -, *, /): \")\n",
    "\n",
    "if op == '+':\n",
    "    print(\"addition is\",a,\"+\",b,\"=\",a + b)\n",
    "elif op == '-':\n",
    "    print(\"sub is\",a,\"-\",b,\"=\",a - b)\n",
    "elif op == '*':\n",
    "    print(\"multiplication is\",a,\"*\",b,\"=\",a * b)\n",
    "elif op == '/':\n",
    "    if b != 0:\n",
    "        print(\"div is\",a,\"/\",b,\"=\",a / b)\n",
    "    else:\n",
    "        print(\"Cannot divide by zero\")\n",
    "\n"
   ]
  },
  {
   "cell_type": "code",
   "execution_count": null,
   "id": "1bb736c5",
   "metadata": {},
   "outputs": [],
   "source": []
  }
 ],
 "metadata": {
  "kernelspec": {
   "display_name": "Python 3",
   "language": "python",
   "name": "python3"
  },
  "language_info": {
   "codemirror_mode": {
    "name": "ipython",
    "version": 3
   },
   "file_extension": ".py",
   "mimetype": "text/x-python",
   "name": "python",
   "nbconvert_exporter": "python",
   "pygments_lexer": "ipython3",
   "version": "3.12.10"
  }
 },
 "nbformat": 4,
 "nbformat_minor": 5
}
